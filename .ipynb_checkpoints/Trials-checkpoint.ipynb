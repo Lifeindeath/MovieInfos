{
 "cells": [
  {
   "cell_type": "code",
   "execution_count": 3,
   "metadata": {
    "collapsed": true
   },
   "outputs": [],
   "source": [
    "from lxml import html\n",
    "import requests\n",
    "from urllib import urlretrieve \n",
    "import re"
   ]
  },
  {
   "cell_type": "markdown",
   "metadata": {},
   "source": [
    "Scraper_0\n",
    "--"
   ]
  },
  {
   "cell_type": "code",
   "execution_count": 60,
   "metadata": {
    "collapsed": true
   },
   "outputs": [],
   "source": [
    "def get_text(el):\n",
    "    if isinstance(el, basestring):\n",
    "        return el\n",
    "    else:\n",
    "        return el.xpath('text()')[0]\n",
    "\n",
    "def is_field(string):\n",
    "    str_is_field = r'.*:\\xa0'\n",
    "    if len(re.findall(str_is_field,string))>0:        \n",
    "        return True\n",
    "    else:\n",
    "        return False\n",
    "\n",
    "def merge_infos(main_info, plot):    \n",
    "    field_name = r'(.*):'\n",
    "    fields = []\n",
    "    values = []\n",
    "    value = ''\n",
    "    end = 0\n",
    "    for i in main_info:\n",
    "        if is_field(i):\n",
    "            values += [value]\n",
    "            value = ''\n",
    "            fields += [re.findall(field_name,i)[0]]            \n",
    "        else:\n",
    "            value += i\n",
    "    values += [value]\n",
    "    fields += [re.findall(field_name,plot[0])[0]]\n",
    "    values += [plot[1]]\n",
    "    \n",
    "    return dict(zip(fields,values[1:]))\n",
    "\n",
    "def get_info_from_filmup(film_url):\n",
    "\tpage = requests.get(film_url)\n",
    "\ttree = html.fromstring(page.content)\n",
    "\n",
    "\t#Fetch the infos as a list:\n",
    "\tinfo = tree.xpath('//div[@id=\"container\"]/table/tr/td/div/table/tr/td/table/tr/td/table/tr/td/font/node()')\n",
    "\tinfo = [get_text(i) for i in info]\n",
    "\tplot = tree.xpath('//div[@id=\"container\"]/table/tr/td/div/table/tr/td/table/tr/td/font/text()')\n",
    "\timage = tree.xpath('//div[@id=\"container\"]/table/tr/td/div/table/tr/td/table/tr/td/table/form/tr/td/a[@class=\"filmup\"]/@href')\n",
    "    \n",
    "\t#Fetch large image url\n",
    "\timage_page = requests.get('http://filmup.leonardo.it/'+image[0])\n",
    "\ttree = html.fromstring(image_page.content)\n",
    "\n",
    "\timage_big = tree.xpath('//div[@id=\"container\"]/table/tr/td/div/div/img/@src')\n",
    "\n",
    "\t#Download image in local folder\n",
    "\turlretrieve('http://filmup.leonardo.it'+image_big[0], \"images/loc.jpg\")\n",
    "\t#print(image downloaded)\n",
    "\tres = merge_infos(info, plot)\n",
    "\treturn res"
   ]
  },
  {
   "cell_type": "code",
   "execution_count": 13,
   "metadata": {
    "collapsed": false
   },
   "outputs": [
    {
     "name": "stdout",
     "output_type": "stream",
     "text": [
      "['', 'The Avengers: Age of Ultron', 'U.S.A.', '2015', 'Azione, Avventura, Fantastico, Fantascienza', \"141'\", 'Joss Whedon', 'marvelstudios.wix.com/the-avengers-2', 'it.marvel.com/avengers', 'facebook, twitter', 'Scarlett Johansson, Chris Hemsworth, Aaron Taylor-Johnson, Robert Downey Jr., Cobie Smulders, Jeremy Renner, Chris Evans, Mark Ruffalo, Samuel L. Jackson, Anthony Mackie', 'Marvel Studios', 'Walt Disney Studios Motion Pictures Italia', u'Quando Tony Stark tenta di avviare un progetto dormiente per il mantenimento della pace, le cose vanno male e gli eroi pi\\xf9 potenti della Terra \\x96 Iron Man, Captain America, Thor, L\\x92Incredibile Hulk, Vedova Nera e Occhio di Falco \\x96 devono affrontare la prova pi\\xf9 ardua di sempre, mentre il destino del pianeta \\xe8 in bilico. Quando il misterioso Ultron emerge dall\\x92ombra, la squadra deve riunirsi per fermare un avversario terrificante e tecnologico deciso a sterminare l\\x92umanit\\xe0. Lungo il cammino, incontreranno due individui potenti e misteriosi, Wanda Maximoff e Pietro Maximoff, e un vecchio amico dotato di un nuovo aspetto, chiamato Visione.']\n"
     ]
    }
   ],
   "source": [
    "l = get_info_from_filmup(\"http://filmup.leonardo.it/sc_theavengers2.htm\")"
   ]
  },
  {
   "cell_type": "code",
   "execution_count": 14,
   "metadata": {
    "collapsed": false
   },
   "outputs": [
    {
     "data": {
      "text/plain": [
       "{u'Anno:': '2015',\n",
       " u'Cast:': 'Scarlett Johansson, Chris Hemsworth, Aaron Taylor-Johnson, Robert Downey Jr., Cobie Smulders, Jeremy Renner, Chris Evans, Mark Ruffalo, Samuel L. Jackson, Anthony Mackie',\n",
       " u'Data di uscita:': u'Quando Tony Stark tenta di avviare un progetto dormiente per il mantenimento della pace, le cose vanno male e gli eroi pi\\xf9 potenti della Terra \\x96 Iron Man, Captain America, Thor, L\\x92Incredibile Hulk, Vedova Nera e Occhio di Falco \\x96 devono affrontare la prova pi\\xf9 ardua di sempre, mentre il destino del pianeta \\xe8 in bilico. Quando il misterioso Ultron emerge dall\\x92ombra, la squadra deve riunirsi per fermare un avversario terrificante e tecnologico deciso a sterminare l\\x92umanit\\xe0. Lungo il cammino, incontreranno due individui potenti e misteriosi, Wanda Maximoff e Pietro Maximoff, e un vecchio amico dotato di un nuovo aspetto, chiamato Visione.',\n",
       " u'Distribuzione:': 'Walt Disney Studios Motion Pictures Italia',\n",
       " u'Durata:': \"141'\",\n",
       " u'Genere:': 'Azione, Avventura, Fantastico, Fantascienza',\n",
       " u'Nazione:': 'U.S.A.',\n",
       " u'Produzione:': 'Marvel Studios',\n",
       " u'Regia:': 'Joss Whedon',\n",
       " u'Sito italiano:': 'it.marvel.com/avengers',\n",
       " u'Sito ufficiale:': 'marvelstudios.wix.com/the-avengers-2',\n",
       " u'Social network:': 'facebook, twitter',\n",
       " u'Titolo originale:': 'The Avengers: Age of Ultron'}"
      ]
     },
     "execution_count": 14,
     "metadata": {},
     "output_type": "execute_result"
    }
   ],
   "source": [
    "l"
   ]
  },
  {
   "cell_type": "markdown",
   "metadata": {
    "collapsed": true
   },
   "source": [
    "Parser_0\n",
    "--\n"
   ]
  },
  {
   "cell_type": "code",
   "execution_count": 61,
   "metadata": {
    "collapsed": false
   },
   "outputs": [],
   "source": [
    "html_template = '<!---Articolo programmazione ordinaria--><div class=\"trailer\">\\\n",
    "                [embed]https://www.youtube.com/watch?v=%%trailer_id\t[/embed]</div></br>\\\n",
    "                <div class=\"info\">%%Trama</div></br><div><br/>Durata: %%Durata minuti<em>\\\n",
    "                Genere: %%Genere - %%Age</em></div>'\n",
    "field_dict = get_info_from_filmup(\"http://filmup.leonardo.it/sc_theavengers2.htm\")"
   ]
  },
  {
   "cell_type": "code",
   "execution_count": 62,
   "metadata": {
    "collapsed": true
   },
   "outputs": [],
   "source": [
    "def fill_fields_from_dict(field_dict, html_template):\n",
    "    field_regexp = r'%%([A-Za-z_]*)'\n",
    "    return re.sub(field_regexp, get_field_from_dict, html_template)"
   ]
  },
  {
   "cell_type": "code",
   "execution_count": 63,
   "metadata": {
    "collapsed": false
   },
   "outputs": [
    {
     "data": {
      "text/plain": [
       "u'<!---Articolo programmazione ordinaria--><div class=\"trailer\">                [embed]https://www.youtube.com/watch?v=%%trailer_id\\t[/embed]</div></br>                <div class=\"info\">Quando Tony Stark tenta di avviare un progetto dormiente per il mantenimento della pace, le cose vanno male e gli eroi pi\\xf9 potenti della Terra \\x96 Iron Man, Captain America, Thor, L\\x92Incredibile Hulk, Vedova Nera e Occhio di Falco \\x96 devono affrontare la prova pi\\xf9 ardua di sempre, mentre il destino del pianeta \\xe8 in bilico. Quando il misterioso Ultron emerge dall\\x92ombra, la squadra deve riunirsi per fermare un avversario terrificante e tecnologico deciso a sterminare l\\x92umanit\\xe0. Lungo il cammino, incontreranno due individui potenti e misteriosi, Wanda Maximoff e Pietro Maximoff, e un vecchio amico dotato di un nuovo aspetto, chiamato Visione.</div></br><div><br/>Durata: 141\\' minuti<em>                Genere: Azione, Avventura, Fantastico, Fantascienza - %%Age</em></div>'"
      ]
     },
     "execution_count": 63,
     "metadata": {},
     "output_type": "execute_result"
    }
   ],
   "source": [
    "fill_fields_from_dict(field_dict, html_template)"
   ]
  },
  {
   "cell_type": "code",
   "execution_count": 57,
   "metadata": {
    "collapsed": true
   },
   "outputs": [],
   "source": [
    "def get_field_from_dict(regexp):\n",
    "    if field_dict.get(unicode(regexp.group(1))) != None:\n",
    "        return field_dict.get(regexp.group(1))\n",
    "    else:\n",
    "        return regexp.group(0)"
   ]
  },
  {
   "cell_type": "code",
   "execution_count": 38,
   "metadata": {
    "collapsed": false
   },
   "outputs": [
    {
     "data": {
      "text/plain": [
       "\"141'\""
      ]
     },
     "execution_count": 38,
     "metadata": {},
     "output_type": "execute_result"
    }
   ],
   "source": [
    "field_dict.get('Durata')\n"
   ]
  },
  {
   "cell_type": "markdown",
   "metadata": {},
   "source": [
    "Unicode\n",
    "--"
   ]
  },
  {
   "cell_type": "code",
   "execution_count": 6,
   "metadata": {
    "collapsed": true
   },
   "outputs": [],
   "source": [
    "my_unicode = u\"hi \\u2119\\u01b4\\u2602\\u210c\\xf8\\u1f24\""
   ]
  },
  {
   "cell_type": "code",
   "execution_count": 8,
   "metadata": {
    "collapsed": false
   },
   "outputs": [],
   "source": [
    "my_utf = my_unicode.encode('utf-8')"
   ]
  },
  {
   "cell_type": "code",
   "execution_count": 11,
   "metadata": {
    "collapsed": false
   },
   "outputs": [],
   "source": [
    "again_unicode = my_utf.decode('utf-8')"
   ]
  },
  {
   "cell_type": "code",
   "execution_count": 17,
   "metadata": {
    "collapsed": false
   },
   "outputs": [
    {
     "name": "stdout",
     "output_type": "stream",
     "text": [
      "hi ℙƴ☂ℌøἤ\n",
      "hi ℙƴ☂ℌøἤ\n"
     ]
    },
    {
     "data": {
      "text/plain": [
       "u'hi \\u2119\\u01b4\\u2602\\u210c\\xf8\\u1f24'"
      ]
     },
     "execution_count": 17,
     "metadata": {},
     "output_type": "execute_result"
    }
   ],
   "source": [
    "print my_utf\n",
    "print again_unicode\n",
    "\n",
    "again_unicode"
   ]
  },
  {
   "cell_type": "code",
   "execution_count": 15,
   "metadata": {
    "collapsed": false
   },
   "outputs": [
    {
     "data": {
      "text/plain": [
       "'hi \\xe2\\x84\\x99\\xc6\\xb4\\xe2\\x98\\x82\\xe2\\x84\\x8c\\xc3\\xb8\\xe1\\xbc\\xa4'"
      ]
     },
     "execution_count": 15,
     "metadata": {},
     "output_type": "execute_result"
    }
   ],
   "source": [
    "my_utf"
   ]
  },
  {
   "cell_type": "code",
   "execution_count": 18,
   "metadata": {
    "collapsed": false
   },
   "outputs": [
    {
     "ename": "UnicodeEncodeError",
     "evalue": "'ascii' codec can't encode characters in position 3-8: ordinal not in range(128)",
     "output_type": "error",
     "traceback": [
      "\u001b[1;31m---------------------------------------------------------------------------\u001b[0m",
      "\u001b[1;31mUnicodeEncodeError\u001b[0m                        Traceback (most recent call last)",
      "\u001b[1;32m<ipython-input-18-26dbddc072f5>\u001b[0m in \u001b[0;36m<module>\u001b[1;34m()\u001b[0m\n\u001b[1;32m----> 1\u001b[1;33m \u001b[0mmy_unicode\u001b[0m\u001b[1;33m.\u001b[0m\u001b[0mencode\u001b[0m\u001b[1;33m(\u001b[0m\u001b[1;34m'ascii'\u001b[0m\u001b[1;33m)\u001b[0m\u001b[1;33m\u001b[0m\u001b[0m\n\u001b[0m",
      "\u001b[1;31mUnicodeEncodeError\u001b[0m: 'ascii' codec can't encode characters in position 3-8: ordinal not in range(128)"
     ]
    }
   ],
   "source": [
    "#not all unicode can become ascii\n",
    "my_unicode.encode('ascii')"
   ]
  },
  {
   "cell_type": "code",
   "execution_count": 19,
   "metadata": {
    "collapsed": false
   },
   "outputs": [
    {
     "data": {
      "text/plain": [
       "'hi '"
      ]
     },
     "execution_count": 19,
     "metadata": {},
     "output_type": "execute_result"
    }
   ],
   "source": [
    "#\"Ignore\" will drop bytes that can't decode\n",
    "my_unicode.encode('ascii','ignore')"
   ]
  },
  {
   "cell_type": "code",
   "execution_count": 20,
   "metadata": {
    "collapsed": false
   },
   "outputs": [
    {
     "data": {
      "text/plain": [
       "'hi ??????'"
      ]
     },
     "execution_count": 20,
     "metadata": {},
     "output_type": "execute_result"
    }
   ],
   "source": [
    "#value of \"replace\" means, give me a standard replacement character. \n",
    "my_unicode.encode('ascii','replace')"
   ]
  },
  {
   "cell_type": "code",
   "execution_count": 21,
   "metadata": {
    "collapsed": false
   },
   "outputs": [
    {
     "data": {
      "text/plain": [
       "'hi &#8473;&#436;&#9730;&#8460;&#248;&#7972;'"
      ]
     },
     "execution_count": 21,
     "metadata": {},
     "output_type": "execute_result"
    }
   ],
   "source": [
    "#\"xmlcharrefreplace\" produces an HTML/XML character entity reference, so that \\u01B4 becomes \"&#436;\" (hex 01B4 is \n",
    "# decimal 436.) This is very useful if you need to output unicode for an HTML file.\n",
    "my_unicode.encode('ascii','xmlcharrefreplace')"
   ]
  },
  {
   "cell_type": "code",
   "execution_count": null,
   "metadata": {
    "collapsed": true
   },
   "outputs": [],
   "source": []
  }
 ],
 "metadata": {
  "kernelspec": {
   "display_name": "Python 2",
   "language": "python",
   "name": "python2"
  },
  "language_info": {
   "codemirror_mode": {
    "name": "ipython",
    "version": 2
   },
   "file_extension": ".py",
   "mimetype": "text/x-python",
   "name": "python",
   "nbconvert_exporter": "python",
   "pygments_lexer": "ipython2",
   "version": "2.7.11"
  }
 },
 "nbformat": 4,
 "nbformat_minor": 0
}
